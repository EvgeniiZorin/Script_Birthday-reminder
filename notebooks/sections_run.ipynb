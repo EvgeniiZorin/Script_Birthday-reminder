{
 "cells": [
  {
   "cell_type": "markdown",
   "id": "a72f5158",
   "metadata": {},
   "source": [
    "# Import libraries and init variables"
   ]
  },
  {
   "cell_type": "code",
   "execution_count": null,
   "id": "8a1a4d05",
   "metadata": {},
   "outputs": [],
   "source": [
    "import sys\n",
    "import os\n",
    "import datetime \n",
    "\n",
    "import pandas as pd\n",
    "import psycopg2 \n",
    "import psycopg2.extras \n",
    "import smtplib \n",
    "from email.mime.text import MIMEText \n",
    "from email.message import EmailMessage \n",
    "from email.mime.multipart import MIMEMultipart\n",
    "import markdown\n",
    "\n",
    "sys.path.append(os.path.abspath('..'))\n",
    "from utils.connections import (\n",
    "    query_db,\n",
    "    send_email\n",
    ")\n",
    "import mySecrets \n"
   ]
  },
  {
   "cell_type": "markdown",
   "id": "30cfd2f3",
   "metadata": {},
   "source": [
    "# Query database"
   ]
  },
  {
   "cell_type": "code",
   "execution_count": null,
   "id": "ed5bf979",
   "metadata": {},
   "outputs": [],
   "source": [
    "df = query_db('../sql/query_birthdays_current_month_day.sql')\n",
    "print(len(df))\n",
    "df\n"
   ]
  },
  {
   "cell_type": "code",
   "execution_count": null,
   "id": "fc05c176",
   "metadata": {},
   "outputs": [],
   "source": [
    "df_markdown = df[['name', 'date', 'type_of_event', 'anniversary_years']].to_markdown(index = False)\n",
    "print(df_markdown)"
   ]
  },
  {
   "cell_type": "markdown",
   "id": "81444019",
   "metadata": {},
   "source": [
    "# Send an email"
   ]
  },
  {
   "cell_type": "code",
   "execution_count": null,
   "id": "b5127c4e",
   "metadata": {},
   "outputs": [],
   "source": [
    "message = \\\n",
    "f\"\"\"\n",
    "# Hello Evgenii! 👋\n",
    "\n",
    "These are the birthdays that happened on this day and month:\n",
    "\n",
    "{df_markdown}\n",
    "\n",
    "<br><br>\n",
    "\n",
    "You can see the code on the [Github page](https://github.com/EvgeniiZorin/Script_Birthday-reminder).\n",
    "\"\"\"\n",
    "send_email(message)\n"
   ]
  }
 ],
 "metadata": {
  "kernelspec": {
   "display_name": "Python 3",
   "language": "python",
   "name": "python3"
  },
  "language_info": {
   "codemirror_mode": {
    "name": "ipython",
    "version": 3
   },
   "file_extension": ".py",
   "mimetype": "text/x-python",
   "name": "python",
   "nbconvert_exporter": "python",
   "pygments_lexer": "ipython3",
   "version": "3.10.6"
  }
 },
 "nbformat": 4,
 "nbformat_minor": 5
}
